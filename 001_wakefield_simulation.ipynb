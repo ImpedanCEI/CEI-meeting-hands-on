{
 "cells": [
  {
   "cell_type": "markdown",
   "id": "3c9b0da0",
   "metadata": {},
   "source": [
    "## Wakefield simulation using Wakis\n",
    "\n",
    "In this example we will set up and simulate start-to-end an accelerator cavity\n",
    "\n",
    "Wakis numerically solves Maxwell's equations in their **integral form**, which is fundamental to the Finite Integration Technique (FIT). This approach preserves the physical laws in their conservative form and naturally fits the discretization on structured grids.\n",
    "\n",
    "The time-domain integral form of Maxwell's equations is:\n",
    "\n",
    "$$\n",
    "\\begin{align}\n",
    "\\oint_{\\partial A} \\mathbf{E}\\cdot \\mathrm{d}\\mathbf{s} &= -\\iint_{A}\\frac{\\partial \\mathbf{B}}{\\partial t}\\cdot \\mathrm{d}\\mathbf{A} \\tag{1a}\\\\[6pt]\n",
    "\\oint_{\\partial A} \\mathbf{H}\\cdot \\mathrm{d}\\mathbf{s} &= \\iint_{A}\\left(\\frac{\\partial \\mathbf{D}}{\\partial t} + \\mathbf{J}\\right)\\cdot \\mathrm{d}\\mathbf{A} \\tag{1b}\\\\[6pt]\n",
    "\\oiint_{\\partial V} \\mathbf{B}\\cdot \\mathrm{d}\\mathbf{A} &= 0 \\tag{1c}\\\\[6pt]\n",
    "\\oiint_{\\partial V} \\mathbf{D}\\cdot \\mathrm{d}\\mathbf{A} &= \\iiint_{V}\\rho\\, \\mathrm{d}V \\tag{1d}\\\\[6pt]\n",
    "\\mathbf{D} = \\varepsilon \\mathbf{E},\\quad \n",
    "\\mathbf{B} &= \\mu \\mathbf{H},\\quad \n",
    "\\mathbf{J} = \\sigma \\mathbf{E} + \\rho\\mathbf{v} \\tag{1e}\n",
    "\\end{align}\n",
    "$$\n",
    "\n",
    "These laws describe:\n",
    "\n",
    "- The evolution of electric $\\mathbf{E}$ and magnetic $\\mathbf{H}$ fields over time via their circulation around surfaces (Eqs. 1a–1b) and fluxes (magnetic flux density $\\mathbf{B}$, electric displacement field $\\mathbf{D}$)\n",
    "- The coupling to sources through current density $\\mathbf{J}$ and charge density $\\rho$ (Eqs. 1b, 1d),\n",
    "- The absence of magnetic monopoles (Eq. 1c),\n",
    "- And the constitutive relations of the materials (Eq. 1e), which relate the physical fields to the medium’s electromagnetic properties: permittivity $\\varepsilon$, permeability $\\mu$, and conductivity $\\sigma$, with $\\mathbf{v}$ denoting the velocity of moving charges.\n",
    "\n",
    "In these equations, $\\varepsilon$, $\\mu$, $\\sigma$ can be considered tensors and frequency independent. \n",
    "\n",
    "To account for frequency or time dependency, the multiplication should be exchanged for a convolution ($\\ast$) -> *Future implementation of dispersive materials*"
   ]
  },
  {
   "cell_type": "code",
   "execution_count": 3,
   "id": "291ccf8f",
   "metadata": {},
   "outputs": [],
   "source": [
    "import numpy as np                  # arrays and operations\n",
    "import pyvista as pv                # for 3d plotting\n",
    "import matplotlib.pyplot as plt     # for 1d, 2d plotting\n",
    "from tqdm import tqdm\n",
    "\n",
    "from wakis import GridFIT3D         # grid generation\n",
    "from wakis import SolverFIT3D       # electromagnetic solver\n",
    "from wakis import WakeSolver        # wakefield and impedance calculation\n",
    "\n",
    "flag_plot_pyvista = True"
   ]
  },
  {
   "cell_type": "markdown",
   "id": "4aebb20c",
   "metadata": {},
   "source": [
    "### Reading and/or generating geometry with `PyVista`\n",
    "\n",
    "Wakis integrates with [**PyVista**](https://docs.pyvista.org/) to import CAD geometries in `.STL`, `.STEP`, or `.OBJ` formats. The mesh is overlaid onto the simulation domain and mapped onto the Cartesian grid using:\n",
    "- `pyvista`'s surface collision algorithm, based on VTK optimized ray-tracing, allows to detect where the input geometry intersects the primal and dual grids.\n",
    "- Assignment of material properties ($\\varepsilon_r$, $\\mu_r$, $\\sigma$) in $x$, $y$, and $z$ to the intersected cells using a first-order subpixel smoothing, inspired by the open-source solver MEEP (MIT).\n",
    "\n",
    "Future versions aim to include a more advanced meshing algorithm for improved fidelity near corners and edges."
   ]
  },
  {
   "cell_type": "markdown",
   "id": "290ded99",
   "metadata": {},
   "source": [
    "With [`PyVista`](https://docs.pyvista.org/index.html), we can generate our geometry in Python using the Constructive Solid Geomtry (CSG) principles:\n",
    "\n",
    "<div style=\"text-align:center\">\n",
    "  <img src=\"img/schema_CSG.png\" width=\"400\">\n",
    "</div>\n",
    "\n",
    "Construct complex geometries through simple forms and boolean operations\n",
    "\n",
    "By <a href=\"//commons.wikimedia.org/wiki/User:Zottie\" title=\"User:Zottie\">User:Zottie</a> - <span class=\"int-own-work\" lang=\"en\">Own work</span>, <a href=\"http://creativecommons.org/licenses/by-sa/3.0/\" title=\"Creative Commons Attribution-Share Alike 3.0\">CC BY-SA 3.0</a>, <a href=\"https://commons.wikimedia.org/w/index.php?curid=263170\">Link</a>"
   ]
  },
  {
   "cell_type": "markdown",
   "id": "4b1dc7a1",
   "metadata": {},
   "source": [
    "First we read the `STL` files:"
   ]
  },
  {
   "cell_type": "code",
   "execution_count": 4,
   "id": "ecd493d9",
   "metadata": {},
   "outputs": [
    {
     "data": {
      "application/vnd.jupyter.widget-view+json": {
       "model_id": "38a508c5d5814061a0df20b652355d77",
       "version_major": 2,
       "version_minor": 0
      },
      "text/plain": [
       "Widget(value='<iframe src=\"http://localhost:36909/index.html?ui=P_0x783eda394e50_0&reconnect=auto\" class=\"pyvi…"
      ]
     },
     "metadata": {},
     "output_type": "display_data"
    }
   ],
   "source": [
    "# ---------- Domain setup ---------\n",
    "\n",
    "# Pre-generated geometry in STL / OBJ / STEP format\n",
    "stl_cavity = 'data/cavity_vacuum.stl' \n",
    "stl_shell = 'data/cavity_shell.stl'\n",
    "\n",
    "# We can read them and plot them with pyvista\n",
    "if flag_plot_pyvista:\n",
    "    pl = pv.Plotter()\n",
    "    pl.add_mesh(pv.read(stl_shell),color='tab:orange', specular=0.5, smooth_shading=True)\n",
    "    pl.add_mesh(pv.read(stl_cavity),color='tab:blue', opacity=0.5, specular=0.5, smooth_shading=True)\n",
    "    pl.set_background('mistyrose', top='white')\n",
    "    pl.camera_position = 'zx'\n",
    "    pl.show()"
   ]
  },
  {
   "cell_type": "markdown",
   "id": "2e331457",
   "metadata": {},
   "source": [
    "And then we add our new geometry if needed using CSG principles:"
   ]
  },
  {
   "cell_type": "code",
   "execution_count": null,
   "id": "7642dfef",
   "metadata": {},
   "outputs": [],
   "source": [
    "# Adding new solids to out domain with Constructive Solid Geometry (CSG)\n",
    "letters = pv.Text3D('CEI', \n",
    "                    width = 0.25,\n",
    "                    height = 0.2,\n",
    "                    normal = (0,1,0),\n",
    "                    center = (0,0,0),\n",
    "                    ).rotate_y(90).translate([0, 0, 0.15])\n",
    "\n",
    "stl_letters = 'data/letters.stl'\n",
    "letters.save(stl_letters)\n"
   ]
  },
  {
   "cell_type": "markdown",
   "id": "ae443bcd",
   "metadata": {},
   "source": [
    "We can quicly plot the resulting geometry and interact with it:"
   ]
  },
  {
   "cell_type": "code",
   "execution_count": 6,
   "id": "e2e9f5fe",
   "metadata": {},
   "outputs": [
    {
     "data": {
      "application/vnd.jupyter.widget-view+json": {
       "model_id": "7c7992f55d554b4e87c802ae8a0df1fd",
       "version_major": 2,
       "version_minor": 0
      },
      "text/plain": [
       "Widget(value='<iframe src=\"http://localhost:36909/index.html?ui=P_0x783e8c9625d0_1&reconnect=auto\" class=\"pyvi…"
      ]
     },
     "metadata": {},
     "output_type": "display_data"
    }
   ],
   "source": [
    "# We can quickly plot the solids in 3D:\n",
    "geometry = letters + pv.read(stl_cavity) + pv.read(stl_shell)\n",
    "\n",
    "if flag_plot_pyvista:\n",
    "    pl = pv.Plotter()\n",
    "    pl.add_mesh_clip_box(geometry, color='white', rotation_enabled=False)\n",
    "    pl.add_axes()\n",
    "    pl.camera_position = 'zx'\n",
    "    pl.show()"
   ]
  },
  {
   "cell_type": "markdown",
   "id": "be6dc8d4",
   "metadata": {},
   "source": [
    "### 🧱 Generation of the numerical Grid\n",
    "\n",
    "Wakis discretizes the integral form of Maxwell's equations using the **Finite Integration Technique (FIT)** on a structured three-dimensional Cartesian grid. \n",
    "\n",
    "$$\n",
    "N_\\text{cells} = N_x \\times N_y \\times N_z\n",
    "$$\n",
    "\n",
    "This approach maps:\n",
    "- Line integrals → to grid **edges**\n",
    "- Surface integrals → to grid **faces**\n",
    "- Volume integrals → to grid **cells**\n",
    "\n",
    "\n",
    "The resulting discretization yields the **Maxwell Grid Equations (MGE)**, which evolve the fields on a **staggered Yee-like lattice**. Specifically:\n",
    "- $\\vec{E}$ and $\\vec{H}$ components are stored on **edges**\n",
    "- $\\vec{D}$ and $\\vec{B}$ components are defined on **faces**\n",
    "- Scalar quantities such as charge density reside at **cell centers**\n",
    "\n"
   ]
  },
  {
   "cell_type": "code",
   "execution_count": null,
   "id": "2a4dcca0",
   "metadata": {},
   "outputs": [
    {
     "name": "stdout",
     "output_type": "stream",
     "text": [
      "Total number of cells: 774400\n",
      "Generating grid...\n",
      "Importing STL solids...\n",
      "Importing stl solids...\n"
     ]
    }
   ],
   "source": [
    "# ---------- Domain setup ---------\n",
    "# Number of mesh cells\n",
    "Nx = 80\n",
    "Ny = 80\n",
    "Nz = 121\n",
    "print(f\"Total number of cells: {Nx*Ny*Nz}\")\n",
    "\n",
    "stl_solids = {'cavity': stl_cavity, \n",
    "              'shell': stl_shell,\n",
    "              'letters' : stl_letters}\n",
    "\n",
    "stl_materials = {'cavity': 'vacuum', \n",
    "                 'shell': [30, 1.0, 30],  # lossy metal [eps_r, mu_r, sigma] \n",
    "                 'letters' : 'pec', # [10, 1.0],  # dielectric [eps_r, mu_r] \n",
    "                }\n",
    "\n",
    "xmin, xmax, ymin, ymax, zmin, zmax = geometry.bounds\n",
    "\n",
    "# set grid and geometry\n",
    "grid = GridFIT3D(xmin, xmax, ymin, ymax, zmin, zmax, Nx, Ny, Nz, \n",
    "                use_mpi=False,\n",
    "                stl_solids=stl_solids, \n",
    "                stl_materials=stl_materials,\n",
    "                #stl_scale=stl_scale,      # solids can be rotated, scaled or translated if needed \n",
    "                #stl_rotate=stl_rotate,\n",
    "                #stl_translate=stl_translate\n",
    "                #use_mesh_refinement=True, # WIP: mesh refinement aroung geometry edges!\n",
    "                )"
   ]
  },
  {
   "cell_type": "code",
   "execution_count": 8,
   "id": "4625d278",
   "metadata": {},
   "outputs": [
    {
     "data": {
      "application/vnd.jupyter.widget-view+json": {
       "model_id": "1924e1570c1d4ad6bad5774c204b3db0",
       "version_major": 2,
       "version_minor": 0
      },
      "text/plain": [
       "Widget(value='<iframe src=\"http://localhost:36909/index.html?ui=P_0x783ed3411110_2&reconnect=auto\" class=\"pyvi…"
      ]
     },
     "metadata": {},
     "output_type": "display_data"
    }
   ],
   "source": [
    "# Built-in method to inspect the grid\n",
    "if flag_plot_pyvista:\n",
    "    grid.inspect()"
   ]
  },
  {
   "cell_type": "code",
   "execution_count": null,
   "id": "3613ac6a",
   "metadata": {},
   "outputs": [],
   "source": [
    "# Built-in method to inspect the grid\n",
    "if flag_plot_pyvista:\n",
    "    grid.plot_solids(bounding_box=True)"
   ]
  },
  {
   "cell_type": "markdown",
   "id": "e60e1cac",
   "metadata": {},
   "source": [
    "### ⚡🧲 Setting up the FIT Solver:\n",
    "Following the FIT numerical method, the continuous Maxwell equations are converted into discrete update rules for the electric and magnetic fields:\n",
    "\n",
    "$$\n",
    "\\begin{align}\n",
    "\\mathbf{C}\\mathbf{D}_s \\, \\mathbf{e} &= -\\mathbf{D}_A \\, \\frac{\\partial (\\mathbf{M}_{\\mu} \\mathbf{h})}{\\partial t}  \\tag{2a} \\\\[6pt]\n",
    "\\widetilde{\\mathbf{C}}\\widetilde{\\mathbf{D}}_s \\, \\mathbf{h} &= \\widetilde{\\mathbf{D}}_A \\left( \\frac{\\partial (\\mathbf{M}_{\\varepsilon} \\mathbf{e})}{\\partial t} + \\mathbf{M}_{\\sigma} \\mathbf{e} + \\mathbf{j}_{\\text{src}} \\right)  \\tag{2b} \\\\[6pt]\n",
    "\\end{align}\n",
    "$$\n",
    "\n",
    "Where:\n",
    "- $\\mathbf{C}$ is the discrete **curl matrix**, where the **Boundary conditions** are applied\n",
    "- $\\mathbf{C}^T$ is its transpose (used for magnetic curl)\n",
    "- $\\mathbf{D}_s$, $\\widetilde{\\mathbf{D}}_s$, $\\mathbf{D}_A$, and $\\widetilde{\\mathbf{D}}_A$ are diagonal matrices representing cell edge lengths and face areas in the primal and dual~($\\sim$) grids.\n",
    "- The electromagnetic fields $\\mathbf{e}, \\mathbf{h}, \\mathbf{j}$ are stored in memory as **1D vectors** of length $\\{3N_\\text{cells}\\}$ stored in **lexicographic order**, encapsulated in the `Field` class."
   ]
  },
  {
   "cell_type": "code",
   "execution_count": null,
   "id": "2ed76e0a",
   "metadata": {},
   "outputs": [
    {
     "name": "stdout",
     "output_type": "stream",
     "text": [
      "Assembling operator matrices...\n",
      "Applying boundary conditions...\n",
      "Adding material tensors...\n",
      "Calculating maximal stable timestep...\n",
      "Pre-computing...\n",
      "Total initialization time: 1.0160045623779297 s\n"
     ]
    }
   ],
   "source": [
    "# ----------- Solver & Simulation ----------\n",
    "# boundary conditions``\n",
    "bc_low=['pec', 'pec', 'pec']\n",
    "bc_high=['pec', 'pec', 'pec'] # PEC boundaries only valid bellow pipe-cutoff\n",
    "\n",
    "n_pml = 10  # number of PML cells\n",
    "solver = SolverFIT3D(grid,\n",
    "                     bc_low=bc_low, bc_high=bc_high, \n",
    "                     bg='pec',      # backgorund material\n",
    "                     use_stl=True,  # enable/disable geometry\n",
    "                     use_mpi=False, # activate MPI\n",
    "                     use_gpu=False, # activate GPU\n",
    "                     n_pml=n_pml,   # number of PML cells\n",
    "                     )\n"
   ]
  },
  {
   "cell_type": "markdown",
   "id": "5df9de32",
   "metadata": {},
   "source": [
    "#### Material tensors and grid information\n",
    "\n",
    "Wakis distinguishes between **primal** and **dual** grid geometries as part of its Finite Integration Technique (FIT) formulation. The grid operations are implemented in Wakis' `GridFIT3D` class. Each quantity is mapped to a geometric entity and stored as a sparse diagonal matrix to enable fast, memory-efficient computations:\n",
    "\n",
    "| Quantity                  | Description                                    |  name in Wakis | \n",
    "|--------------------------|------------------------------------------------| ----- |\n",
    "| $\\mathbf{M}_\\varepsilon^{-1}$ | Diagonal matrix of inverse permittivities |  `ieps`| \n",
    "| $\\mathbf{M}_\\mu^{-1}$    | Diagonal matrix of inverse permeabilities      | `imu` |\n",
    "| $\\mathbf{M}_\\sigma$      | Diagonal matrix of electrical conductivities   |  `sigma`   |\n",
    "| $\\mathbf{D}_s$, $\\widetilde{\\mathbf{D}}_s$, $\\mathbf{D}_A^{-1}$, and $\\widetilde{\\mathbf{D}}_A^{-1}$ | Edge lengths and face areas (primal/dual) |   `L`, `tL`, `iA`, `itA`   |\n",
    "\n",
    "To support **anisotropic materials** and **imported geometries**, Wakis stores the raw material data in structured `Field` objects — similar to 3D tensors — where values can be specified independently along the **x, y, and z directions** for each cell."
   ]
  },
  {
   "cell_type": "code",
   "execution_count": 11,
   "id": "38c7b89d",
   "metadata": {},
   "outputs": [
    {
     "data": {
      "image/png": "[encoded data removed]",
      "text/plain": [
       "<Figure size 800x600 with 6 Axes>"
      ]
     },
     "metadata": {},
     "output_type": "display_data"
    }
   ],
   "source": [
    "# Built-in method in `Field` class\n",
    "# to inspect material tensors (ieps, imu, sigma)\n",
    "# or EM fields E, H, J before simulating\n",
    "\n",
    "solver.sigma.inspect(plane='XZ', cmap='bwr')"
   ]
  },
  {
   "cell_type": "markdown",
   "id": "c142e914",
   "metadata": {},
   "source": [
    "### 🕒 Time-Stepping Routine\n",
    "\n",
    "Wakis uses the **Leapfrog scheme**, a second-order accurate and explicit time integrator. This method updates the magnetic and electric fields in a staggered fashion:\n",
    "\n",
    "$$\n",
    "\\begin{align}\n",
    "\\mathbf{h}^{n+1} &= \\mathbf{h}^n - \\Delta t \\, \\widetilde{\\mathbf{D}}_s \\, \\mathbf{M}_\\mu^{-1} \\, \\mathbf{D}_A^{-1} \\, \\mathbf{C} \\, \\mathbf{e}^{n+0.5} \\tag{3a} \\\\[6pt]\n",
    "\\mathbf{e}^{n+1.5} &= \\mathbf{e}^{n+0.5} + \\Delta t \\, \\mathbf{D}_s \\, \\widetilde{\\mathbf{M}}_\\varepsilon^{-1} \\, \\widetilde{\\mathbf{D}}_A^{-1} \\, \\widetilde{\\mathbf{C}} \\, \\mathbf{h}^n \n",
    "- \\widetilde{\\mathbf{M}}_\\varepsilon^{-1} \\, \\mathbf{j}_{\\text{src}}^n \n",
    "- \\widetilde{\\mathbf{M}}_\\varepsilon^{-1} \\, \\widetilde{\\mathbf{M}}_\\sigma \\, \\mathbf{e}^{n+0.5} \\tag{3b}\n",
    "\\end{align}\n",
    "$$"
   ]
  },
  {
   "cell_type": "markdown",
   "id": "50d37775",
   "metadata": {},
   "source": [
    "### Running with custom time-loops\n",
    "We could create a custom loop by adding a source and advancing the fields:"
   ]
  },
  {
   "cell_type": "code",
   "execution_count": 12,
   "id": "c59f3f1c",
   "metadata": {},
   "outputs": [],
   "source": [
    "# ------------ Beam source ----------------\n",
    "# Beam parameters\n",
    "sigmaz = 10e-2      #[m] -> 2 GHz\n",
    "q = 1e-9            #[C]\n",
    "beta = 1.0          # beam beta \n",
    "xs = 0.             # x source position [m]\n",
    "ys = 0.             # y source position [m]\n",
    "\n",
    "from wakis.sources import Beam\n",
    "beam = Beam(q=q, \n",
    "            sigmaz=sigmaz, \n",
    "            beta=beta,\n",
    "            xsource=xs, \n",
    "            ysource=ys)"
   ]
  },
  {
   "cell_type": "code",
   "execution_count": 13,
   "id": "ae99ee36",
   "metadata": {},
   "outputs": [],
   "source": [
    "# Plotting settings\n",
    "from matplotlib.colors import LinearSegmentedColormap\n",
    "cmap = LinearSegmentedColormap.from_list('name', plt.cm.jet(np.linspace(0.05, 0.9))) # CST's colormap\n",
    "\n",
    "plotkw2D = {'title':'img/E_Abs_2d', \n",
    "            'add_patch':['cavity'], 'patch_alpha':0.9,\n",
    "            'patch_reverse' : True, \n",
    "            'vmin':0, 'vmax':700,\n",
    "            'interpolation' : 'gaussian',\n",
    "            'cmap' : cmap,\n",
    "            'plane': [slice(0, Nx), int(Ny/2), slice(0, Nz)]}"
   ]
  },
  {
   "cell_type": "code",
   "execution_count": 14,
   "id": "50c3c5c6",
   "metadata": {},
   "outputs": [
    {
     "name": "stderr",
     "output_type": "stream",
     "text": [
      "100%|████████████████████████████| 1000/1000 [00:46<00:00, 21.53it/s]\n"
     ]
    }
   ],
   "source": [
    "# Custom time-loop\n",
    "Nt = 1000          \n",
    "for n in tqdm(range(Nt)):\n",
    "\n",
    "    beam.update(solver, n*solver.dt)\n",
    "    solver.one_step()\n",
    "\n",
    "    if n%20 == 0 and n>600:\n",
    "       solver.plot2D('E', component='Abs', **plotkw2D, off_screen=True,n=n)\n",
    "    \n",
    "\n",
    "solver.save_state(f'state_n{n}.h5')"
   ]
  },
  {
   "cell_type": "code",
   "execution_count": 16,
   "id": "cede3c09",
   "metadata": {},
   "outputs": [],
   "source": [
    "!convert -delay 10 -loop 0 img/E_Abs_2d*.png CAP_cavity.gif"
   ]
  },
  {
   "cell_type": "markdown",
   "id": "5b2dfe39",
   "metadata": {},
   "source": [
    "Once the simulation is finished, plot the result in a 3D plot:\n",
    "* Interpolating to the STL cavity\n",
    "* Or simply cutting the simulation domain"
   ]
  },
  {
   "cell_type": "code",
   "execution_count": 28,
   "id": "abb77279-71fe-4df0-8032-ca4ab877d305",
   "metadata": {},
   "outputs": [
    {
     "data": {
      "application/vnd.jupyter.widget-view+json": {
       "model_id": "3d62f43efdf74df0ab28db3bcc098633",
       "version_major": 2,
       "version_minor": 0
      },
      "text/plain": [
       "Widget(value='<iframe src=\"http://localhost:36909/index.html?ui=P_0x783e54851d50_8&reconnect=auto\" class=\"pyvi…"
      ]
     },
     "metadata": {},
     "output_type": "display_data"
    }
   ],
   "source": [
    "solver.grid.grid.cell_data['Ez'] = np.reshape(solver.E[:,:,:,'y'], solver.N) #this is a 1d numpy array of length N=Nx*Ny*Nz\n",
    "points = solver.grid.grid.cell_data_to_point_data()\n",
    "pl = pv.Plotter()\n",
    "pl.add_mesh_clip_plane(points, normal='-y', opacity=1.0,\n",
    "                     scalars='Ez', cmap='jet', clim=[-700,700], \n",
    "                     normal_rotation=False, nan_opacity=1.0)\n",
    "pl.show()"
   ]
  },
  {
   "cell_type": "code",
   "execution_count": null,
   "id": "7dacf3fb",
   "metadata": {},
   "outputs": [],
   "source": [
    "if flag_plot_pyvista:\n",
    "    solver.plot3DonSTL('E', component='Abs', cmap='jet', clim=[0, 1000],\n",
    "        stl_with_field='cavity', field_opacity=1.0,\n",
    "        stl_transparent=['letters'], stl_opacity=0.8, stl_colors='white',\n",
    "        clip_plane=True, clip_normal='-y', clip_origin=[0,0,0],\n",
    "        off_screen=False, zoom=1.2, n=n, title='img/E_Abs_3d')"
   ]
  },
  {
   "cell_type": "code",
   "execution_count": null,
   "id": "8c4df0c0",
   "metadata": {},
   "outputs": [],
   "source": [
    "if flag_plot_pyvista:\n",
    "    cmap = plt.get_cmap('Blues_r', 10)\n",
    "    solver.plot3D('E', component='Abs', cmap=cmap, clim=[10, 1000],\n",
    "            add_stl='letters', stl_opacity=1.0, stl_colors='darkgreen',\n",
    "            clip_interactive=True, clip_normal='-y',\n",
    "            off_screen=False, zoom=1.0, n=n, title='img/Ez_3d')"
   ]
  },
  {
   "cell_type": "markdown",
   "id": "51ebd851",
   "metadata": {},
   "source": [
    "We can also inspect the other components of the fields, e.g. the Electric field:"
   ]
  },
  {
   "cell_type": "code",
   "execution_count": null,
   "id": "e14160a4",
   "metadata": {},
   "outputs": [],
   "source": [
    "solver.E.inspect(cmap='bwr', plane='XZ', dpi=200)"
   ]
  },
  {
   "cell_type": "markdown",
   "id": "d561e4b0",
   "metadata": {},
   "source": [
    "Or reset all of them to zero:"
   ]
  },
  {
   "cell_type": "code",
   "execution_count": null,
   "id": "0284c199",
   "metadata": {},
   "outputs": [],
   "source": [
    "solver.reset_fields()"
   ]
  },
  {
   "cell_type": "markdown",
   "id": "509fd0e7",
   "metadata": {},
   "source": [
    "And then load the saved state:"
   ]
  },
  {
   "cell_type": "code",
   "execution_count": null,
   "id": "58a84ea6",
   "metadata": {},
   "outputs": [],
   "source": [
    "solver.load_state(f'state_n{n}.h5')"
   ]
  },
  {
   "cell_type": "markdown",
   "id": "6a1e82f6",
   "metadata": {},
   "source": [
    "### Running with a routine e.g. Wakefield solver\n",
    "\n",
    "We need to setup our WakeSolve class with the desired beam parameters and wakelength.\n",
    "\n",
    "#### 🔌 Source: Gaussian Beam Current $J_z$\n",
    "\n",
    "A rigid Gaussian bunch current is modeled as a line distribution:\n",
    "\n",
    "$$\n",
    "\\mathbf{J}_z(x_{\\text{src}}, y_{\\text{src}}, \\vec{z}) = \n",
    "\\frac{q \\beta c}{\\sqrt{2\\pi} \\sigma_z} \\, \n",
    "\\exp\\left( -\\frac{(\\vec{s} - s_0)^2}{2\\sigma_z^2} \\right)\n",
    "$$\n",
    "\n",
    "with:\n",
    "- $\\vec{s} = \\vec{z} - \\beta c t$: beam-frame coordinate\n",
    "- $s_0 = z_{\\min} - \\beta c t_{\\text{inj}}$: center of bunch\n",
    "- $q$ the charge in $\\text{nC}$\n",
    "- $\\sigma_z$ the bunch length in $\\text{m}$\n",
    "\n",
    "This supports both **ultra-relativistic** ($\\beta \\approx 1$) and **low-beta** scenarios."
   ]
  },
  {
   "cell_type": "code",
   "execution_count": null,
   "id": "41f23786",
   "metadata": {},
   "outputs": [],
   "source": [
    "# ------------ Beam source ----------------\n",
    "# Beam parameters\n",
    "sigmaz = 10e-2      #[m] -> f_max = beta*c/3sigmaz\n",
    "q = 1e-9            #[C]\n",
    "beta = 1.0          # beam beta \n",
    "xs = 0.             # x source position [m]\n",
    "ys = 0.             # y source position [m]\n",
    "xt = 0.             # x test position [m]\n",
    "yt = 0.             # y test position [m]\n",
    "# [DEFAULT] tinj = 8.53*sigmaz/c_light  # injection time offset [s] \n",
    "\n",
    "# Simualtion\n",
    "wakelength = 30.  # [m]\n",
    "skip_cells = 10   # no. cells\n",
    "results_folder = f'results_wl{int(wakelength)}/'\n",
    "wake = WakeSolver(q=q, \n",
    "                  sigmaz=sigmaz, \n",
    "                  beta=beta,\n",
    "                  xsource=xs, ysource=ys, \n",
    "                  xtest=xt, ytest=yt,\n",
    "                  skip_cells=skip_cells,           # Skip cells for wake potential integration at the boundary \n",
    "                  results_folder=results_folder,   \n",
    "                  Ez_file=results_folder+'Ez.h5')"
   ]
  },
  {
   "cell_type": "code",
   "execution_count": null,
   "id": "882ddcd0",
   "metadata": {},
   "outputs": [],
   "source": [
    "# ----------- Solver & Simulation ----------\n",
    "# boundary conditions``\n",
    "bc_low=['pec', 'pec', 'pec']\n",
    "bc_high=['pec', 'pec', 'pec']\n",
    "\n",
    "solver = SolverFIT3D(grid, wake,\n",
    "                     bc_low=bc_low, bc_high=bc_high, \n",
    "                     bg='pec',      # backgorund material\n",
    "                     use_stl=True,  # enable/disable geometry\n",
    "                     use_mpi=False, # activate MPI\n",
    "                     use_gpu=True, # activate GPU\n",
    "                     )"
   ]
  },
  {
   "cell_type": "code",
   "execution_count": null,
   "id": "6d1b31b7",
   "metadata": {},
   "outputs": [],
   "source": [
    "# Some built-in plotting kwargs:\n",
    "plotkw2D = {'title':'img/E_z', \n",
    "            'add_patch':['cavity'], 'patch_alpha':0.9,\n",
    "            'patch_reverse' : True, \n",
    "            'vmin':0, 'vmax':700,\n",
    "            'interpolation' : 'gaussian',\n",
    "            'cmap' : 'jet',\n",
    "            'plane': [slice(0, Nx), int(Ny/2), slice(0, Nz)]}"
   ]
  },
  {
   "cell_type": "code",
   "execution_count": null,
   "id": "f36869c1",
   "metadata": {},
   "outputs": [],
   "source": [
    "# Wakefield Solver run\n",
    "solver.wakesolve(wakelength=wakelength, \n",
    "                 plot=False, # turn False for speedup\n",
    "                 plot_every=30, plot_until=3000, **plotkw2D\n",
    "                 )"
   ]
  },
  {
   "cell_type": "markdown",
   "id": "d407cfbf",
   "metadata": {},
   "source": [
    "### 📈 Wake Potential and Impedance from 3D electromganetic simulations\n",
    "\n",
    "Once the 3D E;ectromagnetic is done, Wakis will compute the wake potential and the impedance from the simulated fields:\n",
    "\n",
    "\n",
    "\n",
    "* It will take care of saving the fields for the wake potential and impedance calculations:\n",
    "  \n",
    "The **wake potential**, expressed in $\\text{V/pC}$, is calculated by integrating the electric and magnetic fields seen by a test particle as it follows behind the source:\n",
    "\n",
    "$$\n",
    "W(s) = \\frac{1}{q_s} \\int_{-\\infty}^{\\infty} \\left[ E_z(z, t) + \\beta c \\, \\vec{e}_z \\times \\vec{B}(z, t) \\right]_{t = (s + z)/c} \\, dz\n",
    "$$\n",
    "\n",
    "For ultra-relativistic beams, the transverse component vanishes, and the expression simplifies to:\n",
    "\n",
    "$$\n",
    "W_\\parallel(s) = \\frac{1}{q_s} \\int_{-\\infty}^{\\infty} E_z(z, t = (s + z)/c) \\, dz\n",
    "$$\n",
    "\n",
    "The **transverse wake potential** is recovered via the **Panofsky-Wenzel theorem**:\n",
    "\n",
    "$$\n",
    "W_{\\perp,\\alpha}(s) = \\frac{\\partial}{\\partial \\alpha} \\int_{-\\infty}^{s} W_\\parallel(s') \\, ds', \\quad \\alpha = x, y\n",
    "$$\n",
    "\n",
    "Wakis implements this gradient using second-order finite differences.\n",
    "\n",
    "#### From Wake to Impedance\n",
    "\n",
    "Given the bunch profile $\\lambda(s)$ and the wake potential $W(s)$, the beam coupling impedance is computed in Fourier space ia a deconvolution:\n",
    "\n",
    "- **Longitudinal impedance** in $\\Omega$:\n",
    "\n",
    "$$\n",
    "Z_\\parallel(\\omega) = \\beta c \\cdot \\frac{\\mathcal{F}[W_\\parallel(s)]}{\\mathcal{F}[\\lambda(s)]}\n",
    "$$\n",
    "\n",
    "- **Transverse impedance** in $\\Omega/m$:\n",
    "\n",
    "$$\n",
    "Z_\\perp(\\omega) = -i \\beta c \\cdot \\frac{\\mathcal{F}[W_\\perp(s)]}{\\mathcal{F}[\\lambda(s)]}\n",
    "$$\n",
    "\n",
    "where $\\mathcal{F}$ denotes the Fourier transform. Wakis uses `numpy.fft` and zero-padding for smooth frequency analysis."
   ]
  },
  {
   "cell_type": "code",
   "execution_count": null,
   "id": "9672eddc",
   "metadata": {},
   "outputs": [],
   "source": [
    "# Plot longitudinal wake potential and impedance\n",
    "fig1, ax = plt.subplots(1,2, figsize=[12,4], dpi=150)\n",
    "ax[0].plot(wake.s*1e2, wake.WP, c='tab:red', lw=1.5, label='Wakis')\n",
    "ax[0].set_xlabel('s [cm]')\n",
    "ax[0].set_ylabel('Longitudinal wake potential [V/pC]', color='tab:red')\n",
    "ax[0].legend()\n",
    "ax[0].set_xlim(xmax=wakelength*1e2)\n",
    "\n",
    "ax[1].plot(wake.f*1e-9, np.abs(wake.Z), c='tab:blue', alpha=0.8, lw=2, label='Abs')\n",
    "ax[1].plot(wake.f*1e-9, np.real(wake.Z), ls='--', c='tab:blue', lw=1.5, label='Real')\n",
    "ax[1].plot(wake.f*1e-9, np.imag(wake.Z), ls=':', c='tab:blue', lw=1.5, label='Imag')\n",
    "ax[1].set_xlabel('f [GHz]')\n",
    "ax[1].set_ylabel('Longitudinal impedance [Abs][$\\Omega$]', color='tab:blue')\n",
    "ax[1].legend()\n",
    "\n",
    "fig1.tight_layout()\n",
    "fig1.savefig(results_folder+'longitudinal.png')\n",
    "#plt.show()"
   ]
  },
  {
   "cell_type": "code",
   "execution_count": null,
   "id": "bdfac9c3",
   "metadata": {},
   "outputs": [],
   "source": [
    "# Plot transverse x wake potential and impedance\n",
    "fig2, ax = plt.subplots(1,2, figsize=[12,4], dpi=150)\n",
    "ax[0].plot(wake.s*1e2, wake.WPx, c='tab:orange', lw=1.5, label='Wakis')\n",
    "ax[0].set_xlabel('s [cm]')\n",
    "ax[0].set_ylabel('Transverse wake potential X [V/pC]', color='tab:orange')\n",
    "ax[0].legend()\n",
    "ax[0].set_xlim(xmax=wakelength*1e2)\n",
    "\n",
    "ax[1].plot(wake.f*1e-9, np.abs(wake.Zx), c='tab:green', lw=2, label='Abs')\n",
    "ax[1].plot(wake.f*1e-9, np.real(wake.Zx), c='tab:green', ls='--', lw=1.5, label='Real')\n",
    "ax[1].plot(wake.f*1e-9, np.imag(wake.Zx), c='tab:green', ls=':', lw=1.5, label='Imag')\n",
    "ax[1].set_xlabel('f [GHz]')\n",
    "ax[1].set_ylabel('Transverse impedance X [Abs][$\\Omega$]', color='tab:green')\n",
    "ax[1].legend()\n",
    "\n",
    "fig2.tight_layout()\n",
    "fig2.savefig(results_folder+'001_transverse_x.png')\n",
    "#plt.show()"
   ]
  },
  {
   "cell_type": "code",
   "execution_count": null,
   "id": "7cd1f525",
   "metadata": {},
   "outputs": [],
   "source": [
    "# Plot transverse y wake potential and impedance\n",
    "fig3, ax = plt.subplots(1,2, figsize=[12,4], dpi=150)\n",
    "ax[0].plot(wake.s*1e2, wake.WPy, c='tab:brown', lw=1.5, label='Wakis')\n",
    "ax[0].set_xlabel('s [cm]')\n",
    "ax[0].set_ylabel('Transverse wake potential Y [V/pC]', color='tab:brown')\n",
    "ax[0].legend()\n",
    "ax[0].set_xlim(xmax=wakelength*1e2)\n",
    "\n",
    "ax[1].plot(wake.f*1e-9, np.abs(wake.Zy), c='tab:pink', lw=2, label='Abs')\n",
    "ax[1].plot(wake.f*1e-9, np.real(wake.Zy), c='tab:pink', ls='--', lw=1.5, label='Real')\n",
    "ax[1].plot(wake.f*1e-9, np.imag(wake.Zy), c='tab:pink', ls=':', lw=1.5, label='Imag')\n",
    "ax[1].set_xlabel('f [GHz]')\n",
    "ax[1].set_ylabel('Transverse impedance Y [Abs][$\\Omega$]', color='tab:pink')\n",
    "ax[1].legend()\n",
    "\n",
    "fig3.tight_layout()\n",
    "fig3.savefig(results_folder+'transverse_y.png')\n",
    "#plt.show()"
   ]
  },
  {
   "cell_type": "markdown",
   "id": "222a4ee1",
   "metadata": {},
   "source": [
    "Or plot the field at the last timestep at different transverse positions:"
   ]
  },
  {
   "cell_type": "code",
   "execution_count": null,
   "id": "bae007c1",
   "metadata": {},
   "outputs": [],
   "source": [
    "# %matplotlib ipympl\n",
    "# Plot Electric field component in 2D using imshow\n",
    "solver.plot1D(field='E', component='z', \n",
    "              line='z', pos=[0.1, 0.2, 0.35, 0.5, 0.6], \n",
    "              xscale='linear', yscale='linear',\n",
    "              off_screen=False, title=results_folder+'Ez1d')"
   ]
  },
  {
   "cell_type": "code",
   "execution_count": null,
   "id": "740a6d85",
   "metadata": {},
   "outputs": [],
   "source": [
    "from matplotlib.colors import LinearSegmentedColormap\n",
    "cmap = LinearSegmentedColormap.from_list('name', plt.cm.jet(np.linspace(0.1, 0.9))) # CST's colormap\n",
    "\n",
    "# Plot Electric field component in 2D using imshow\n",
    "solver.plot2D(field='E', component='z', \n",
    "              plane='ZX', pos=0.5, \n",
    "              cmap=cmap, vmin=-100, vmax=100., interpolation='hanning',\n",
    "              add_patch='cavity', patch_reverse=True, patch_alpha=0.8, \n",
    "              off_screen=False)"
   ]
  },
  {
   "cell_type": "markdown",
   "id": "87f7e58d",
   "metadata": {},
   "source": []
  }
 ],
 "metadata": {
  "kernelspec": {
   "display_name": "wakis-env",
   "language": "python",
   "name": "python3"
  },
  "language_info": {
   "codemirror_mode": {
    "name": "ipython",
    "version": 3
   },
   "file_extension": ".py",
   "mimetype": "text/x-python",
   "name": "python",
   "nbconvert_exporter": "python",
   "pygments_lexer": "ipython3",
   "version": "3.11.8"
  }
 },
 "nbformat": 4,
 "nbformat_minor": 5
}
