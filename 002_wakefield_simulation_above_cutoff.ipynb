{
 "cells": [
  {
   "cell_type": "markdown",
   "id": "3c9b0da0",
   "metadata": {},
   "source": [
    "## Wakefield simulation using Wakis\n",
    "\n",
    "In this example we will set up and simulate start-to-end an accelerator cavity above pipe cutoff frequency. To simulate this, we need the use of **Open Boundaries** that mimic and infinite pipe for the modes above cutoff to propagate\n",
    "\n",
    "### Notes on Open boundaries: Perfect Matching Layers\n",
    "A **Perfectly Matched Layer (PML)** is an artificial absorbing layer used in finite-difference and finite-element electromagnetic simulations (e.g., FDTD, FIT) to mimic open boundaries by preventing reflections at the edges of the computational domain. \n",
    "\n",
    "The PML works by **transforming the coordinates into a complex space**, which attenuates outgoing waves without reflection. To achieve this, the **electrical conductivity $ \\sigma $** (and magnetic conductivity $ \\sigma^* $ if needed) inside the PML is gradually increased along the thickness of the layer — typically using a polynomial ramp such as:\n",
    "\n",
    "$$\n",
    "\\sigma(x) = \\sigma_{\\text{max}} \\left( \\frac{x}{d} \\right)^m\n",
    "$$\n",
    "\n",
    "where $ x $ is the depth into the PML, $ d $ is the total PML thickness, $ \\sigma_{\\text{max}} $ is the peak conductivity, and $ m $ (commonly 2–4) controls the smoothness of the ramp. This graded profile ensures impedance matching and gradual absorption, minimizing reflections across a wide frequency range and for oblique incidence.\n",
    "\n",
    "<div style=\"text-align:center\">\n",
    "  <img src=\"https://codimd.web.cern.ch/uploads/upload_377b25730e2b4ec04c803bbab82562da.gif\" width=\"400\">\n",
    "</div>"
   ]
  },
  {
   "cell_type": "code",
   "execution_count": 3,
   "id": "291ccf8f",
   "metadata": {},
   "outputs": [],
   "source": [
    "import numpy as np                  # arrays and operations\n",
    "import pyvista as pv                # for 3d plotting\n",
    "import matplotlib.pyplot as plt     # for 1d, 2d plotting\n",
    "from tqdm import tqdm\n",
    "\n",
    "from wakis import GridFIT3D         # grid generation\n",
    "from wakis import SolverFIT3D       # electromagnetic solver\n",
    "from wakis import WakeSolver        # wakefield and impedance calculation\n",
    "\n",
    "flag_plot_pyvista = True"
   ]
  },
  {
   "cell_type": "markdown",
   "id": "4aebb20c",
   "metadata": {},
   "source": [
    "### Reading and/or generating geometry with `PyVista`"
   ]
  },
  {
   "cell_type": "code",
   "execution_count": 4,
   "id": "ecd493d9",
   "metadata": {},
   "outputs": [
    {
     "data": {
      "application/vnd.jupyter.widget-view+json": {
       "model_id": "38a508c5d5814061a0df20b652355d77",
       "version_major": 2,
       "version_minor": 0
      },
      "text/plain": [
       "Widget(value='<iframe src=\"http://localhost:36909/index.html?ui=P_0x783eda394e50_0&reconnect=auto\" class=\"pyvi…"
      ]
     },
     "metadata": {},
     "output_type": "display_data"
    }
   ],
   "source": [
    "# ---------- Domain setup ---------\n",
    "\n",
    "# Pre-generated geometry in STL / OBJ / STEP format\n",
    "stl_cavity = 'data/cavity_vacuum.stl' \n",
    "stl_shell = 'data/cavity_shell.stl'\n",
    "\n",
    "# We can read them and plot them with pyvista\n",
    "if flag_plot_pyvista:\n",
    "    pl = pv.Plotter()\n",
    "    pl.add_mesh(pv.read(stl_shell),color='tab:orange', specular=0.5, smooth_shading=True)\n",
    "    pl.add_mesh(pv.read(stl_cavity),color='tab:blue', opacity=0.5, specular=0.5, smooth_shading=True)\n",
    "    pl.set_background('mistyrose', top='white')\n",
    "    pl.camera_position = 'zx'\n",
    "    pl.show()"
   ]
  },
  {
   "cell_type": "markdown",
   "id": "290ded99",
   "metadata": {},
   "source": [
    "Again with PyVista, we can generate our geometry in Python using the Constructive Solid Geomtry (CSG) principles:"
   ]
  },
  {
   "cell_type": "code",
   "execution_count": null,
   "id": "7642dfef",
   "metadata": {},
   "outputs": [],
   "source": [
    "# Adding new solids to out domain with Constructive Solid Geometry (CSG)\n",
    "letters = pv.Text3D('CEI', \n",
    "                    width = 0.25,\n",
    "                    height = 0.2,\n",
    "                    normal = (0,1,0),\n",
    "                    center = (0,0,0),\n",
    "                    ).rotate_y(90).translate([0, 0, 0.15])\n",
    "\n",
    "stl_letters = 'data/letters.stl'\n",
    "letters.save(stl_letters)\n"
   ]
  },
  {
   "cell_type": "code",
   "execution_count": 6,
   "id": "e2e9f5fe",
   "metadata": {},
   "outputs": [
    {
     "data": {
      "application/vnd.jupyter.widget-view+json": {
       "model_id": "7c7992f55d554b4e87c802ae8a0df1fd",
       "version_major": 2,
       "version_minor": 0
      },
      "text/plain": [
       "Widget(value='<iframe src=\"http://localhost:36909/index.html?ui=P_0x783e8c9625d0_1&reconnect=auto\" class=\"pyvi…"
      ]
     },
     "metadata": {},
     "output_type": "display_data"
    }
   ],
   "source": [
    "# We can quickly plot the solids in 3D:\n",
    "geometry = letters + pv.read(stl_cavity) + pv.read(stl_shell)\n",
    "\n",
    "if flag_plot_pyvista:\n",
    "    pl = pv.Plotter()\n",
    "    pl.add_mesh_clip_box(geometry, color='white', rotation_enabled=False)\n",
    "    pl.add_axes()\n",
    "    pl.camera_position = 'zx'\n",
    "    pl.show()"
   ]
  },
  {
   "cell_type": "code",
   "execution_count": null,
   "id": "2a4dcca0",
   "metadata": {},
   "outputs": [
    {
     "name": "stdout",
     "output_type": "stream",
     "text": [
      "Total number of cells: 774400\n",
      "Generating grid...\n",
      "Importing STL solids...\n",
      "Importing stl solids...\n"
     ]
    }
   ],
   "source": [
    "# ---------- Domain setup ---------\n",
    "# Number of mesh cells\n",
    "Nx = 80\n",
    "Ny = 80\n",
    "Nz = 200\n",
    "print(f\"Total number of cells: {Nx*Ny*Nz}\")\n",
    "\n",
    "stl_solids = {'cavity': stl_cavity, \n",
    "              'shell': stl_shell,\n",
    "              'letters' : stl_letters}\n",
    "\n",
    "stl_materials = {'cavity': 'vacuum', \n",
    "                 'shell': [30, 1.0, 30],  # lossy metal [eps_r, mu_r, sigma] \n",
    "                 'letters' : 'pec', # [10, 1.0],  # dielectric [eps_r, mu_r] \n",
    "                }\n",
    "\n",
    "xmin, xmax, ymin, ymax, zmin, zmax = geometry.bounds\n",
    "\n",
    "# set grid and geometry\n",
    "grid = GridFIT3D(xmin, xmax, ymin, ymax, zmin, zmax, Nx, Ny, Nz, \n",
    "                use_mpi=False,\n",
    "                stl_solids=stl_solids, \n",
    "                stl_materials=stl_materials,\n",
    "                #stl_scale=stl_scale,      # solids can be rotated, scaled or translated if needed \n",
    "                #stl_rotate=stl_rotate,\n",
    "                #stl_translate=stl_translate\n",
    "                )"
   ]
  },
  {
   "cell_type": "code",
   "execution_count": 8,
   "id": "4625d278",
   "metadata": {},
   "outputs": [
    {
     "data": {
      "application/vnd.jupyter.widget-view+json": {
       "model_id": "1924e1570c1d4ad6bad5774c204b3db0",
       "version_major": 2,
       "version_minor": 0
      },
      "text/plain": [
       "Widget(value='<iframe src=\"http://localhost:36909/index.html?ui=P_0x783ed3411110_2&reconnect=auto\" class=\"pyvi…"
      ]
     },
     "metadata": {},
     "output_type": "display_data"
    }
   ],
   "source": [
    "# Built-in method to inspect the grid\n",
    "if flag_plot_pyvista:\n",
    "    grid.inspect()"
   ]
  },
  {
   "cell_type": "code",
   "execution_count": null,
   "id": "2ed76e0a",
   "metadata": {},
   "outputs": [
    {
     "name": "stdout",
     "output_type": "stream",
     "text": [
      "Assembling operator matrices...\n",
      "Applying boundary conditions...\n",
      "Adding material tensors...\n",
      "Calculating maximal stable timestep...\n",
      "Pre-computing...\n",
      "Total initialization time: 1.0160045623779297 s\n"
     ]
    }
   ],
   "source": [
    "# ----------- Solver & Simulation ----------\n",
    "# boundary conditions``\n",
    "bc_low=['pec', 'pec', 'pml']\n",
    "bc_high=['pec', 'pec', 'pml']\n",
    "\n",
    "n_pml = 10  # number of PML cells\n",
    "solver = SolverFIT3D(grid,\n",
    "                     bc_low=bc_low, bc_high=bc_high, \n",
    "                     bg='pec',      # backgorund material\n",
    "                     use_stl=True,  # enable/disable geometry\n",
    "                     use_mpi=False, # activate MPI\n",
    "                     use_gpu=False, # activate GPU\n",
    "                     n_pml=n_pml,   # number of PML cells\n",
    "                     )\n"
   ]
  },
  {
   "cell_type": "code",
   "execution_count": 11,
   "id": "38c7b89d",
   "metadata": {},
   "outputs": [
    {
     "data": {
      "image/png": "[encoded data removed]",
      "text/plain": [
       "<Figure size 800x600 with 6 Axes>"
      ]
     },
     "metadata": {},
     "output_type": "display_data"
    }
   ],
   "source": [
    "# Built-in method in `Field` class\n",
    "# to inspect material tensors (ieps, imu, sigma)\n",
    "# or EM fields E, H, J before simulating\n",
    "\n",
    "solver.sigma.inspect(plane='XZ', cmap='bwr')"
   ]
  },
  {
   "cell_type": "markdown",
   "id": "6a1e82f6",
   "metadata": {},
   "source": [
    "## Running with a routine e.g. Wakefield solver\n",
    "\n",
    "We need to setup our WakeSolve class with the desired beam parameters and wakelength: \n",
    "* It will take care of saving the fields for the wake potential and impedance calculations"
   ]
  },
  {
   "cell_type": "code",
   "execution_count": null,
   "id": "41f23786",
   "metadata": {},
   "outputs": [],
   "source": [
    "# ------------ Beam source ----------------\n",
    "# Beam parameters\n",
    "sigmaz = 5e-2      #[m] -> f_max = beta*c/3sigmaz\n",
    "q = 1e-9            #[C]\n",
    "beta = 1.0          # beam beta \n",
    "xs = 0.             # x source position [m]\n",
    "ys = 0.             # y source position [m]\n",
    "xt = 0.             # x test position [m]\n",
    "yt = 0.             # y test position [m]\n",
    "# [DEFAULT] tinj = 8.53*sigmaz/c_light  # injection time offset [s] \n",
    "\n",
    "# Simualtion\n",
    "wakelength = 30.  # [m]\n",
    "skip_cells = 10   # no. cells\n",
    "results_folder = f'results_wl{int(wakelength)}/'\n",
    "wake = WakeSolver(wakelength=wakelength,\n",
    "                  q=q, \n",
    "                  sigmaz=sigmaz, \n",
    "                  beta=beta,\n",
    "                  xsource=xs, ysource=ys, \n",
    "                  xtest=xt, ytest=yt,\n",
    "                  skip_cells=skip_cells,           # Skip cells for wake potential integration at the boundary \n",
    "                  results_folder=results_folder,   \n",
    "                  Ez_file=results_folder+'Ez.h5')"
   ]
  },
  {
   "cell_type": "code",
   "execution_count": null,
   "id": "882ddcd0",
   "metadata": {},
   "outputs": [],
   "source": [
    "# ----------- Solver & Simulation ----------\n",
    "# boundary conditions``\n",
    "bc_low=['pec', 'pec', 'pml']\n",
    "bc_high=['pec', 'pec', 'pml']\n",
    "\n",
    "solver = SolverFIT3D(grid, wake,\n",
    "                     bc_low=bc_low, bc_high=bc_high, \n",
    "                     bg='pec',      # backgorund material\n",
    "                     use_stl=True,  # enable/disable geometry\n",
    "                     use_mpi=False, # activate MPI\n",
    "                     use_gpu=True, # activate GPU\n",
    "                     )"
   ]
  },
  {
   "cell_type": "code",
   "execution_count": null,
   "id": "6d1b31b7",
   "metadata": {},
   "outputs": [],
   "source": [
    "# Some built-in plotting kwargs:\n",
    "plotkw2D = {'title':'img/E_z', \n",
    "            'add_patch':['cavity'], 'patch_alpha':0.9,\n",
    "            'patch_reverse' : True, \n",
    "            'vmin':0, 'vmax':700,\n",
    "            'interpolation' : 'gaussian',\n",
    "            'cmap' : 'jet',\n",
    "            'plane': [slice(0, Nx), int(Ny/2), slice(0, Nz)]}\n",
    "\n",
    "# Solver run\n",
    "solver.wakesolve(wakelength=wakelength, \n",
    "                 plot=False, # turn False for speedup\n",
    "                 plot_every=30, plot_until=3000, **plotkw2D\n",
    "                 )"
   ]
  },
  {
   "cell_type": "markdown",
   "id": "d407cfbf",
   "metadata": {},
   "source": [
    "Once the simulation is finished, we can plot the results:"
   ]
  },
  {
   "cell_type": "code",
   "execution_count": null,
   "id": "9672eddc",
   "metadata": {},
   "outputs": [],
   "source": [
    "# Plot longitudinal wake potential and impedance\n",
    "fig1, ax = plt.subplots(1,2, figsize=[12,4], dpi=150)\n",
    "ax[0].plot(wake.s*1e2, wake.WP, c='tab:red', lw=1.5, label='Wakis')\n",
    "ax[0].set_xlabel('s [cm]')\n",
    "ax[0].set_ylabel('Longitudinal wake potential [V/pC]', color='tab:red')\n",
    "ax[0].legend()\n",
    "ax[0].set_xlim(xmax=wakelength*1e2)\n",
    "\n",
    "ax[1].plot(wake.f*1e-9, np.abs(wake.Z), c='tab:blue', alpha=0.8, lw=2, label='Abs')\n",
    "ax[1].plot(wake.f*1e-9, np.real(wake.Z), ls='--', c='tab:blue', lw=1.5, label='Real')\n",
    "ax[1].plot(wake.f*1e-9, np.imag(wake.Z), ls=':', c='tab:blue', lw=1.5, label='Imag')\n",
    "ax[1].set_xlabel('f [GHz]')\n",
    "ax[1].set_ylabel('Longitudinal impedance [Abs][$\\Omega$]', color='tab:blue')\n",
    "ax[1].legend()\n",
    "\n",
    "fig1.tight_layout()\n",
    "fig1.savefig(results_folder+'longitudinal.png')\n",
    "#plt.show()\n"
   ]
  },
  {
   "cell_type": "code",
   "execution_count": null,
   "id": "bdfac9c3",
   "metadata": {},
   "outputs": [],
   "source": [
    "# Plot transverse x wake potential and impedance\n",
    "fig2, ax = plt.subplots(1,2, figsize=[12,4], dpi=150)\n",
    "ax[0].plot(wake.s*1e2, wake.WPx, c='tab:orange', lw=1.5, label='Wakis')\n",
    "ax[0].set_xlabel('s [cm]')\n",
    "ax[0].set_ylabel('Transverse wake potential X [V/pC]', color='tab:orange')\n",
    "ax[0].legend()\n",
    "ax[0].set_xlim(xmax=wakelength*1e2)\n",
    "\n",
    "ax[1].plot(wake.f*1e-9, np.abs(wake.Zx), c='tab:green', lw=2, label='Abs')\n",
    "ax[1].plot(wake.f*1e-9, np.real(wake.Zx), c='tab:green', ls='--', lw=1.5, label='Real')\n",
    "ax[1].plot(wake.f*1e-9, np.imag(wake.Zx), c='tab:green', ls=':', lw=1.5, label='Imag')\n",
    "ax[1].set_xlabel('f [GHz]')\n",
    "ax[1].set_ylabel('Transverse impedance X [Abs][$\\Omega$]', color='tab:green')\n",
    "ax[1].legend()\n",
    "\n",
    "fig2.tight_layout()\n",
    "fig2.savefig(results_folder+'001_transverse_x.png')\n",
    "#plt.show()"
   ]
  },
  {
   "cell_type": "code",
   "execution_count": null,
   "id": "7cd1f525",
   "metadata": {},
   "outputs": [],
   "source": [
    "# Plot transverse y wake potential and impedance\n",
    "fig3, ax = plt.subplots(1,2, figsize=[12,4], dpi=150)\n",
    "ax[0].plot(wake.s*1e2, wake.WPy, c='tab:brown', lw=1.5, label='Wakis')\n",
    "ax[0].set_xlabel('s [cm]')\n",
    "ax[0].set_ylabel('Transverse wake potential Y [V/pC]', color='tab:brown')\n",
    "ax[0].legend()\n",
    "ax[0].set_xlim(xmax=wakelength*1e2)\n",
    "\n",
    "ax[1].plot(wake.f*1e-9, np.abs(wake.Zy), c='tab:pink', lw=2, label='Abs')\n",
    "ax[1].plot(wake.f*1e-9, np.real(wake.Zy), c='tab:pink', ls='--', lw=1.5, label='Real')\n",
    "ax[1].plot(wake.f*1e-9, np.imag(wake.Zy), c='tab:pink', ls=':', lw=1.5, label='Imag')\n",
    "ax[1].set_xlabel('f [GHz]')\n",
    "ax[1].set_ylabel('Transverse impedance Y [Abs][$\\Omega$]', color='tab:pink')\n",
    "ax[1].legend()\n",
    "\n",
    "fig3.tight_layout()\n",
    "fig3.savefig(results_folder+'transverse_y.png')\n",
    "#plt.show()"
   ]
  },
  {
   "cell_type": "markdown",
   "id": "222a4ee1",
   "metadata": {},
   "source": [
    "Or plot the field at the last timestep at different transverse positions:"
   ]
  },
  {
   "cell_type": "code",
   "execution_count": null,
   "id": "bae007c1",
   "metadata": {},
   "outputs": [],
   "source": [
    "# %matplotlib ipympl\n",
    "# Plot Electric field component in 2D using imshow\n",
    "solver.plot1D(field='E', component='z', \n",
    "              line='z', pos=[0.1, 0.2, 0.35, 0.5, 0.6], \n",
    "              xscale='linear', yscale='linear',\n",
    "              off_screen=False, title=results_folder+'Ez1d')"
   ]
  },
  {
   "cell_type": "code",
   "execution_count": null,
   "id": "740a6d85",
   "metadata": {},
   "outputs": [],
   "source": [
    "from matplotlib.colors import LinearSegmentedColormap\n",
    "cmap = LinearSegmentedColormap.from_list('name', plt.cm.jet(np.linspace(0.1, 0.9))) # CST's colormap\n",
    "\n",
    "# Plot Electric field component in 2D using imshow\n",
    "solver.plot2D(field='E', component='z', \n",
    "              plane='ZX', pos=0.5, \n",
    "              cmap=cmap, vmin=-100, vmax=100., interpolation='hanning',\n",
    "              add_patch='cavity', patch_reverse=True, patch_alpha=0.8, \n",
    "              off_screen=False)"
   ]
  },
  {
   "cell_type": "markdown",
   "id": "64fbfb93",
   "metadata": {},
   "source": [
    "## Extrapolating the partially decayed simulation w/ `IDDEFIX`\n",
    "\n",
    "The [IDDEFIX](https://github.com/ImpedanCEI/IDDEFIX) (Impedance Determination through Differential Evolution FItting and eXtrapolation) python package will take the partially decayed wake and give back the fully decayed wake using the **Resonator formalism** and **Diferential Evolution's** algorithms powered with `scipy` and `pymoo`\n",
    "\n",
    "With IDDEFIX, we can find the main resonators and use Evolutionary Algorithms to fit them to the partially decayed formalism:"
   ]
  },
  {
   "cell_type": "code",
   "execution_count": 2,
   "id": "403c8cef",
   "metadata": {},
   "outputs": [],
   "source": [
    "import iddefix\n",
    "from scipy.constants import c"
   ]
  },
  {
   "cell_type": "code",
   "execution_count": null,
   "id": "7495f92d",
   "metadata": {},
   "outputs": [],
   "source": [
    "# We can recompute the impedance with less samples to increase the EA speed\n",
    "wake.calc_long_Z(samples=1001, fmax=2e9)"
   ]
  },
  {
   "cell_type": "code",
   "execution_count": null,
   "id": "eb7eee58",
   "metadata": {},
   "outputs": [],
   "source": [
    "# get bounds for the Differential Evolution fitting\n",
    "bounds = wake.get_SmartBounds(freq_data=wake.f, impedance_data=wake.Z,\n",
    "                        minimum_peak_height=500, distance=3, inspect_bounds=True,\n",
    "                        Rs_bounds=[0.8, 10], Q_bounds=[0.5, 5], fres_bounds=[-0.01e9, +0.01e9]\n",
    "                        )"
   ]
  },
  {
   "cell_type": "code",
   "execution_count": null,
   "id": "249cf538",
   "metadata": {},
   "outputs": [],
   "source": [
    "DE_model = wake.get_DEmodel_fitting(freq_data=wake.f, impedance_data=wake.Z, \n",
    "                                    plane='longitudinal', dim='z', \n",
    "                                    parameterBounds=bounds.parameterBounds, N_resonators=bounds.N_resonators, \n",
    "                                    DE_kernel='CMAES', maxiter=1e5, cmaes_sigma=0.01, popsize=150, tol=1e-3,\n",
    "                                    use_minimization=True, minimization_margin=[0.3, 0.2, 0.01])"
   ]
  },
  {
   "cell_type": "markdown",
   "id": "fd6752db",
   "metadata": {},
   "source": [
    "### Plot the extrapolation result"
   ]
  },
  {
   "cell_type": "code",
   "execution_count": null,
   "id": "c80b99e2",
   "metadata": {},
   "outputs": [],
   "source": [
    "# retrieve the wake potential, function and impedance analytically using the resonator formalism\n",
    "from scipy.constants import c as c_light\n",
    "\n",
    "new_wakelength = 100 # [m]\n",
    "s, wake_potential = wake.get_extrapolated_wake(wakelength=new_wakelength, sigma=sigmaz/c_light, use_minimization=True)\n",
    "t, wake_function = wake.get_extrapolated_wake_function(wakelength=new_wakelength, use_minimization=True)\n",
    "f, impedance = wake.get_extrapolated_impedance(wakelength=new_wakelength, use_minimization=True)"
   ]
  },
  {
   "cell_type": "code",
   "execution_count": null,
   "id": "7dd7c3e4",
   "metadata": {},
   "outputs": [],
   "source": [
    "\n",
    "fig, ax = plt.subplots(2,1, figsize=[8,8], dpi=100)\n",
    "ax[0].plot(wake.s*1e2, wake.WP, c='r', lw=1.5, label='Wakis')\n",
    "ax[0].plot(s*1e2, wake_potential, c='r', lw=3, alpha=0.5, label='Wakis DE extrapolation')\n",
    "ax[0].plot(t*c_light*1e2, wake_function, c='', lw=1.5, alpha=0.5, label='Wakis DE extrapolation')\n",
    "ax[0].set_xlabel('s [cm]')\n",
    "ax[0].set_ylabel('Longitudinal wake potential [V/pC]', color='r')\n",
    "\n",
    "ax[1].plot(wake.f*1e-9, np.real(wake.Z), c='b', lw=1.5, label='Wakis - Re')\n",
    "ax[1].plot(wake.f*1e-9, np.imag(wake.Z), c='b', lw=1.5, ls='--', label='Wakis - Imag')\n",
    "\n",
    "ax[1].plot(f*1e-9, np.real(impedance), c='b', lw=3, alpha=0.5, label='Wakis DE - Re')\n",
    "ax[1].plot(f*1e-9, np.imag(impedance), c='b', lw=3, ls='--', alpha=0.5, label='Wakis DE - Imag')\n",
    "ax[1].set_xlabel('f [GHz]')\n",
    "ax[1].set_ylabel('Longitudinal impedance [Abs][$\\Omega$]', color='b')\n",
    "\n",
    "fig.tight_layout()"
   ]
  },
  {
   "cell_type": "code",
   "execution_count": null,
   "id": "3eae9ef4",
   "metadata": {},
   "outputs": [],
   "source": [
    "#%matplotlib ipympl\n",
    "\n",
    "# Retrieve partially decayed wake potential\n",
    "WP_pd = DE_model.get_wake_potential(wake.s/c, sigma=10e-2/c, use_minimization=False)\n",
    "WP_pd_min = DE_model.get_wake_potential(wake.s/c, sigma=10e-2/c)\n",
    "\n",
    "# Retrieve partially decayed impedance\n",
    "f_pd = np.linspace(0, 1.2e9, 10000)\n",
    "Z_pd = DE_model.get_impedance_from_fitFunction(f_pd, use_minimization=False)\n",
    "Z_pd_min = DE_model.get_impedance_from_fitFunction(f_pd, use_minimization=True)\n",
    "\n",
    "fig1, ax = plt.subplots(1,2, figsize=[12,4], dpi=150)\n",
    "\n",
    "ax[0].plot(wake.s, wake.WP, c='k', alpha=0.8, label='Wakis wl=30 m')\n",
    "ax[0].plot(wake.s, -WP_pd*1e-12, c='tab:blue', alpha=0.8, lw=1.5, label='DE wake potential')\n",
    "ax[0].plot(wake.s, -WP_pd_min*1e-12, c='tab:red', alpha=0.6, lw=1.5, label='DE+min wake potential')\n",
    "ax[0].set_xlabel('s [cm]')\n",
    "ax[0].set_ylabel('Longitudinal wake potential [V/pC]', color='tab:red')\n",
    "ax[0].legend()\n",
    "\n",
    "ax[1].plot(wake.f*1e-9, np.real(wake.Z), ls='-', c='k', lw=1.5, label='Real')\n",
    "#ax[1].plot(f*1e-9, np.imag(Z), ls=':', c='k', lw=1.5, label='Imag')\n",
    "#ax[1].plot(f*1e-9, np.real(Z_pd), c='tab:blue', label='Abs')\n",
    "\n",
    "ax[1].plot(f_pd*1e-9, np.real(Z_pd), ls='-', c='tab:blue', alpha=0.8, lw=1.5, label='DE Real')\n",
    "#ax[1].plot(f_pd*1e-9, np.imag(Z_pd), ls=':', c='tab:blue', alpha=0.6, lw=1.5, label='DE Imag')\n",
    "\n",
    "ax[1].plot(f_pd*1e-9, np.real(Z_pd_min), ls='-', c='tab:red', alpha=0.6, lw=1.5, label='DE+min Real')\n",
    "\n",
    "ax[1].set_xlabel('f [GHz]')\n",
    "ax[1].set_ylabel('Longitudinal impedance [Abs][$\\Omega$]', color='tab:blue')\n",
    "ax[1].legend()\n",
    "\n",
    "fig1.tight_layout()"
   ]
  },
  {
   "cell_type": "markdown",
   "id": "5d9d5c93",
   "metadata": {},
   "source": [
    "And analytically reconstruct the desired wakelength"
   ]
  },
  {
   "cell_type": "code",
   "execution_count": null,
   "id": "b078bbb9",
   "metadata": {},
   "outputs": [],
   "source": [
    "# We can compare it with a longer simulation to verify the extrapolation\n",
    "wake100 = WakeSolver()\n",
    "wake100.load_results('results_wl100/')"
   ]
  },
  {
   "cell_type": "code",
   "execution_count": null,
   "id": "5d7baa44",
   "metadata": {},
   "outputs": [],
   "source": [
    "t_fd = np.linspace(wake.s[0]/c, 100/c, 10000)\n",
    "WP_fd = DE_model.get_wake_potential(t_fd, sigma=10e-2/c)\n",
    "\n",
    "f_pd = np.linspace(0, 1.5e9, 10000)\n",
    "Z_pd = DE_model.get_impedance(f_pd, wakelength=100)\n",
    "\n",
    "f_fd = np.linspace(0, 1.5e9, 10000)\n",
    "Z_fd = DE_model.get_impedance(f_fd)\n",
    "\n",
    "fig1, ax = plt.subplots(1,2, figsize=[12,4], dpi=150)\n",
    "#ax[0].plot(wake100.s, wake100.WP, c='k', alpha=0.8, label='Wakis wl=100 m')\n",
    "ax[0].plot(wake.s, wake.WP, c='k', alpha=0.8, label='Wakis wl=30 m')\n",
    "ax[0].plot(t_fd*c, -WP_fd*1e-12, c='tab:red', alpha=0.6, lw=1.5, label='DE+min 100m')\n",
    "ax[0].set_xlabel('s [cm]')\n",
    "ax[0].set_ylabel('Longitudinal wake potential [V/pC]', color='tab:red')\n",
    "ax[0].legend()\n",
    "\n",
    "ax[1].plot(wake.f*1e-9, np.real(wake.Z), c='k', alpha=0.5, label='Wakis wl=30 m')\n",
    "#ax[1].plot(wake100.f*1e-9, np.real(wake100.Z), c='k', label='Wakis wl=100 m')\n",
    "ax[1].plot(f_pd*1e-9, np.real(Z_pd), ls='--', c='tab:blue', alpha=0.8, lw=1.5, label='DE+min wl=100m')\n",
    "#ax[1].plot(f_fd*1e-9, np.real(Z_fd), ls='--', c='tab:red', alpha=0.8, lw=1.5, label='DE+min wl=inf')\n",
    "\n",
    "ax[1].set_xlabel('f [GHz]')\n",
    "ax[1].set_ylabel('Longitudinal impedance [Abs][$\\Omega$]', color='tab:blue')\n",
    "ax[1].legend()\n",
    "\n",
    "fig1.tight_layout()"
   ]
  },
  {
   "cell_type": "markdown",
   "id": "b4a30fa4",
   "metadata": {},
   "source": [
    "And finally save to a txt our fully decayed impedance:"
   ]
  },
  {
   "cell_type": "code",
   "execution_count": null,
   "id": "129af6ac",
   "metadata": {},
   "outputs": [],
   "source": [
    "f_fd = np.linspace(0, 1.5e9, 10000)\n",
    "Z_fd = DE_model.get_impedance(f_fd)\n",
    "DE_model.save_txt('003_fully_decayed_impedance.txt', f_fd, Z_fd)"
   ]
  },
  {
   "cell_type": "markdown",
   "id": "2dfb73c8",
   "metadata": {},
   "source": [
    "## Computing the beam-induced heating w/ `BIHC`\n",
    "\n",
    "Generate beam parameters with `BIHC`\n",
    "\n",
    "Let's imagine our CAP cavity is installed in the LHC and we need to estimate if the power loss due to impedance is high enough that it can melt or damage the component\n",
    "\n",
    "First we define the beam filling scheme and build our beam:"
   ]
  },
  {
   "cell_type": "code",
   "execution_count": null,
   "id": "20bd49f6",
   "metadata": {},
   "outputs": [],
   "source": [
    "import bihc"
   ]
  },
  {
   "cell_type": "code",
   "execution_count": null,
   "id": "97d8123d",
   "metadata": {},
   "outputs": [],
   "source": [
    "# We can import it from BIHC's library by\n",
    "from bihc.fillingschemes import fillingSchemeLHC_standard\n",
    "from bihc.fillingschemes import fillingSchemeLHC_8b4e\n",
    "\n",
    "# Or use an LPC file from the LPCTool database\n",
    "LPCfile = 'data/25ns_2464b_2452_1842_1821_236bpi_12inj_hybrid.csv' "
   ]
  },
  {
   "cell_type": "code",
   "execution_count": null,
   "id": "d4dfc574",
   "metadata": {},
   "outputs": [],
   "source": [
    "# Create beam object\n",
    "bl = 1.2e-9                 # bunch length [s]\n",
    "Np = 2.3e11                 # bunch intensity [protons/bunch]\n",
    "bunchShape = 'q-GAUSSIAN'   # bunch profile shape in time \n",
    "qvalue = 3/5                # value of q parameter in the q-gaussian distribution\n",
    "fillMode = 'FLATTOP'        # Energy\n",
    "fmax = 2e9                  # Maximum frequency of the beam spectrum [Hz]\n",
    "\n",
    "# If using a filling scheme: \n",
    "fillingScheme = fillingSchemeLHC_standard(ninj=9, ntrain=4, nbunches=72)\n",
    "beam = bihc.Beam(Np=Np, bunchLength=bl, fillingScheme=fillingScheme, # LPCfile=LPCfile, then fillingScheme parameter is not needed\n",
    "                bunchShape=bunchShape, qvalue=qvalue, \n",
    "                machine='LHC', fillMode=fillMode, spectrum='numeric', fmax=fmax)\n",
    "\n",
    "\n",
    "print(f'* Number of bunches used: {np.sum(fillingScheme)}')\n",
    "print(f'* Total intensity: {np.sum(fillingScheme)*Np:.2e} protons')"
   ]
  },
  {
   "cell_type": "code",
   "execution_count": null,
   "id": "21fa6c02",
   "metadata": {},
   "outputs": [],
   "source": [
    "fig, ax = plt.subplots(1,2, figsize=[14,6])\n",
    "\n",
    "t, prof = beam.longitudinalProfile\n",
    "ax[0].plot(t*1e6, prof*beam.Np,)\n",
    "ax[0].set_xlabel('Time [ms]')\n",
    "ax[0].set_ylabel('Profile Intensity [protons]')\n",
    "\n",
    "f, spectrum = beam.spectrum\n",
    "ax[1].plot(f*1e-9, spectrum*beam.Np*np.sum(fillingScheme), c='r')\n",
    "ax[1].set_xlabel('Frquency [GHz]')\n",
    "ax[1].set_ylabel('Spectrum Intensity [protons]')\n",
    "ax[1].set_xlim((0, 2.0))"
   ]
  },
  {
   "cell_type": "markdown",
   "id": "4557f860",
   "metadata": {},
   "source": [
    "The beam induced heating depends on the interaction of the beam power spectrum and the beam-coupling impedance:\n",
    "\n",
    "$$\n",
    "P_{loss} = 2 (f_0 eN_{beam})^2 \\cdot \\sum_{p=0}^{+\\infty} |\\Lambda(p\\omega_0)|^2 Re[Z_z(p \\omega_0)]\n",
    "$$\n",
    "\n",
    "To assess it visually we can plot them together:\n"
   ]
  },
  {
   "cell_type": "code",
   "execution_count": null,
   "id": "0aaf5faa",
   "metadata": {},
   "outputs": [],
   "source": [
    "# We create an impedance object with BIHC:\n",
    "Z = bihc.Impedance(f=f_fd, Z=Z_fd)"
   ]
  },
  {
   "cell_type": "code",
   "execution_count": null,
   "id": "d168957d",
   "metadata": {},
   "outputs": [],
   "source": [
    "# Plot impedance and spectrum \n",
    "fig, ax = plt.subplots(figsize=[10,5])\n",
    "axx = ax.twinx()\n",
    "\n",
    "l0, = ax.plot(beam.powerSpectrum[0]/1e9, beam.powerSpectrum[1], color='r', alpha=0.7)\n",
    "l1, = axx.plot(Z.f/1e9, Z.Zr, color='k', alpha=0.8, ls='-')\n",
    "\n",
    "ax.set_ylabel('Power spectrum amplitude [a.u.]', color='k')\n",
    "#ax.set_yscale('log')\n",
    "ax.set_xlabel('Frequency [GHz]')\n",
    "ax.set_xlim((0, 1.5))\n",
    "ax.set_ylim(ymin=0, ymax=1.1)\n",
    "\n",
    "axx.set_ylabel(r'Longitudinal Impedance Re(Z) [$\\Omega$]', color='k')\n",
    "axx.set_ylim(ymin=1e-0) \n",
    "#axx.set_yscale('log')\n",
    "\n",
    "axx.legend([l0, l1], [f'$\\Lambda^2$ Power spectrum', 'Re(Z) CEI logo impedance'], loc=0)\n",
    "\n",
    "fig.tight_layout()"
   ]
  },
  {
   "cell_type": "markdown",
   "id": "fe987f0e",
   "metadata": {},
   "source": [
    "### Calculate Beam-Induced power loss\n",
    "With `BIHC` we can simply calculate the power loss by `beam.getPloss(Z)`. \n",
    "\n",
    "However, due to inacuracies in the wakefield simulation or the CAD model, or to account for changes in the revolution frequency during operation, `BIHC` also performs a **statistical analysis** by rigidly shifting the impedance curve `beam.getShiftedPloss(Z, shift=shift)` to account for different overlaps with the beam spectral lines:"
   ]
  },
  {
   "cell_type": "code",
   "execution_count": null,
   "id": "d4d26bc6",
   "metadata": {},
   "outputs": [],
   "source": [
    "print('Calculate beam-induced heating of CAP-cavity impedance')\n",
    "print('----------------------------------------------------')\n",
    "# Get unshifted ploss \n",
    "ploss, ploss_density = beam.getPloss(Z) \n",
    "print(f'Dissipated power (no-shift): {ploss:.3} W')\n",
    "\n",
    "# Get min/max power loss with rigid shift\n",
    "shift = 20e6  # distance between shift steps [Hz]\n",
    "shifts, power = beam.getShiftedPloss(Z, shift=shift)\n",
    "\n",
    "print(f'Minimum dissipated power: P_min = {np.min(power):.3} W, at step {shifts[np.argmin(power)]}')\n",
    "print(f'Maximum dissipated power: P_max = {np.max(power):.3} W, at step {shifts[np.argmax(power)]}')\n",
    "print(f'Average dissipated power: P_mean = {np.mean(power):.3} W')"
   ]
  },
  {
   "cell_type": "markdown",
   "id": "111ca6fd",
   "metadata": {},
   "source": [
    "We can now retrieve and plot the impedance curve that gives the maximum power loss. We can observe that when the peak at lower frequency is shifted and placed exactly on top of the beam spectral line, the power loss dramatically increases"
   ]
  },
  {
   "cell_type": "code",
   "execution_count": null,
   "id": "312aa6ab",
   "metadata": {},
   "outputs": [],
   "source": [
    "# Get unshifted ploss max\n",
    "Z_max = beam.Zmax\n",
    "\n",
    "# Plot impedance and spectrum \n",
    "fig, ax = plt.subplots(figsize=[10,5])\n",
    "axx = ax.twinx()\n",
    "\n",
    "l0, = ax.plot(beam.powerSpectrum[0]/1e9, beam.powerSpectrum[1], color='r', alpha=0.7)\n",
    "l1, = axx.plot(Z.f/1e9, Z.Zr, color='k', alpha=0.8, ls='-')\n",
    "l2, = axx.plot(Z_max.f/1e9, Z_max.Zr, color='b', alpha=0.8, ls='-')\n",
    "\n",
    "ax.set_ylabel('Power spectrum amplitude [a.u.]', color='k')\n",
    "ax.set_xlabel('Frequency [GHz]')\n",
    "ax.set_xlim((0, 1.5))\n",
    "#ax.set_ylim(ymin=1e-3, ymax=1.1)\n",
    "#ax.set_yscale('log')\n",
    "\n",
    "axx.set_ylabel(r'Longitudinal Impedance Re(Z) [$\\Omega$]', color='k')\n",
    "#axx.set_ylim(ymin=1e-1, ymax=1e5) \n",
    "#axx.set_yscale('log')\n",
    "\n",
    "axx.legend([l0, l1, l2], [f'$\\Lambda^2$ Power spectrum', 'Re(Z) CEI logo impedance', 'Re(Z) Shifted CEI logo impedance'], loc=0)\n",
    "\n",
    "fig.tight_layout()"
   ]
  },
  {
   "cell_type": "markdown",
   "id": "b06cfc35",
   "metadata": {},
   "source": [
    "We can also plot the power loss by frequency with the power loss density:"
   ]
  },
  {
   "cell_type": "code",
   "execution_count": null,
   "id": "7f71cdef",
   "metadata": {},
   "outputs": [],
   "source": [
    "fig, ax = plt.subplots(figsize=[10,7])\n",
    "\n",
    "# Unshifted impedance\n",
    "ploss, ploss_density = beam.getPloss(Z) \n",
    "\n",
    "# Shifted impedance\n",
    "ploss_max, ploss_density_max = beam.getPloss(Z_max) \n",
    "\n",
    "l1, = ax.plot(np.linspace(0, Z_max.f.max()/1e9, len(ploss_density_max )), ploss_density_max , color='r', marker='v', lw=3, alpha=0.8)\n",
    "l0, = ax.plot(np.linspace(0, Z.f.max()/1e9, len(ploss_density )), ploss_density , color='k', marker='v', lw=3, alpha=0.8)\n",
    "\n",
    "ax.set_ylabel('Power by frequency [W]', color='k')\n",
    "ax.set_yscale('log')\n",
    "ax.set_xlabel('Frequency [GHz]')\n",
    "ax.set_xlim((0, 1.5))\n",
    "ax.set_ylim(ymin=1e-1, ymax=1e4)\n",
    "ax.grid(which='minor', axis='y', alpha=0.8, ls=':')\n",
    "\n",
    "ax.legend([l0, l1, l2], [f'Ploss', 'Ploss Max.'], loc=1)\n",
    "ax.text(0.3, 0.9, f'Ploss avg = {round(np.mean(power ),2)} W \\n Ploss max. = {round(np.max(power ),2)} W',\n",
    "        horizontalalignment='center',\n",
    "        verticalalignment='center',\n",
    "        transform=ax.transAxes,\n",
    "        bbox ={'facecolor':'white','alpha':0.6, 'pad':10},\n",
    "        color='k', fontsize=14)\n",
    "\n",
    "fig.suptitle('Power loss by frequency')\n",
    "fig.tight_layout()"
   ]
  },
  {
   "cell_type": "markdown",
   "id": "ef90deb1",
   "metadata": {},
   "source": [
    "If the CAP cavity was placed in a common-beam chamber, it would see the effect of **2 beam power loss**:\n",
    "$$\n",
    "P_{loss}(s) = \n",
    "(2 f_0 e N_{beam})^2 \\cdot \\sum_{p=0}^{+\\infty} |\\Lambda(p\\omega_0)|^2 \\cdot (Re[Z^0_z(p \\omega_0)] + \\\\\n",
    "[\\Delta y_1(s) + \\Delta y_2(s)]Re[Z^1_z(p \\omega_0)]) \\cdot (1 - cos(p \\omega_0 \\tau_s))\n",
    "$$\n",
    "\n",
    "<br>\n",
    "\n",
    "\n",
    "\n",
    "The beam-induced heating in this case is a function of the distance with the interaction point (IP) and can be greater than a factor 2 of the 1-beam case. \n",
    "\n",
    "We can compute this with `BIHC` too:"
   ]
  },
  {
   "cell_type": "code",
   "execution_count": null,
   "id": "bfe3d36c",
   "metadata": {},
   "outputs": [],
   "source": [
    " #       2 beam case\n",
    "# ----------------------\n",
    "# Defining the phase shift array for LHC\n",
    "c = 299792458 # Speed of light in vacuum [m/s]\n",
    "ring_circumference =  26658.883   #[m]\n",
    "\n",
    "start = -3.5 #m\n",
    "stop = 3.5 #m\n",
    "resolution = 0.001 #m power2b\n",
    "\n",
    "s = np.arange(start, stop, resolution)\n",
    "tau_s = 2*s/c # Phase shift array [s]\n",
    "\n",
    "power2b = beam.get2BeamPloss(Z, tau_s=tau_s)\n",
    "power2b_max = beam.get2BeamPloss(Z_max, tau_s=tau_s)"
   ]
  },
  {
   "cell_type": "code",
   "execution_count": null,
   "id": "6ae4bfbf",
   "metadata": {},
   "outputs": [],
   "source": [
    "# Plot power los vs distance from IP, qgaussian\n",
    "fig, ax = plt.subplots(figsize=[12,5])\n",
    "\n",
    "ax.plot(s, power2b_max, label=\"2-b Ploss Max.\", c='b', ls='-', alpha=0.7)\n",
    "ax.plot(s, power2b, label=\"2-b Ploss \", c='deepskyblue', ls='-', alpha=0.7)\n",
    "\n",
    "ax.set_ylabel('Dissipated power [W]')\n",
    "ax.set_xlabel('s Distance from IP [m]')\n",
    "\n",
    "ax.axhline(np.max(power), c='b', ls='--', alpha=0.5, label='Max. 1-b power')\n",
    "ax.axhline(np.mean(power), c='deepskyblue', ls='--', alpha=0.5, label='1-b power')\n",
    "\n",
    "ax.set_ylim(ymin=0)\n",
    "ax.set_title(f'2 beam power loss vs s')\n",
    "fig.legend(bbox_to_anchor=(0.55, 0.0), fontsize=14, loc='lower center', ncol=2)\n",
    "fig.tight_layout(rect=[0, 0.2, 1, 1])"
   ]
  },
  {
   "cell_type": "markdown",
   "id": "87f7e58d",
   "metadata": {},
   "source": []
  }
 ],
 "metadata": {
  "kernelspec": {
   "display_name": "wakis-env",
   "language": "python",
   "name": "python3"
  },
  "language_info": {
   "codemirror_mode": {
    "name": "ipython",
    "version": 3
   },
   "file_extension": ".py",
   "mimetype": "text/x-python",
   "name": "python",
   "nbconvert_exporter": "python",
   "pygments_lexer": "ipython3",
   "version": "3.11.8"
  }
 },
 "nbformat": 4,
 "nbformat_minor": 5
}
